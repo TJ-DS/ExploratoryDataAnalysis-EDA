{
 "cells": [
  {
   "cell_type": "code",
   "execution_count": 1,
   "metadata": {
    "collapsed": true
   },
   "outputs": [],
   "source": [
    "import pandas as pd"
   ]
  },
  {
   "cell_type": "code",
   "execution_count": 2,
   "metadata": {
    "collapsed": true
   },
   "outputs": [],
   "source": [
    "df = pd.read_csv('https://Users/t.shah/Term-1/master/Data/Projects/1000%20movies%20data.csv')"
   ]
  },
  {
   "cell_type": "code",
   "execution_count": 3,
   "metadata": {
    "collapsed": true
   },
   "outputs": [],
   "source": [
    "df.dropna(inplace = True)"
   ]
  },
  {
   "cell_type": "code",
   "execution_count": 4,
   "metadata": {
    "scrolled": true
   },
   "outputs": [
    {
     "data": {
      "text/html": [
       "<div>\n",
       "<style scoped>\n",
       "    .dataframe tbody tr th:only-of-type {\n",
       "        vertical-align: middle;\n",
       "    }\n",
       "\n",
       "    .dataframe tbody tr th {\n",
       "        vertical-align: top;\n",
       "    }\n",
       "\n",
       "    .dataframe thead th {\n",
       "        text-align: right;\n",
       "    }\n",
       "</style>\n",
       "<table border=\"1\" class=\"dataframe\">\n",
       "  <thead>\n",
       "    <tr style=\"text-align: right;\">\n",
       "      <th></th>\n",
       "      <th>Rank</th>\n",
       "      <th>Title</th>\n",
       "      <th>Genre</th>\n",
       "      <th>Description</th>\n",
       "      <th>Director</th>\n",
       "      <th>Actors</th>\n",
       "      <th>Year</th>\n",
       "      <th>Runtime (Minutes)</th>\n",
       "      <th>Rating</th>\n",
       "      <th>Votes</th>\n",
       "      <th>Revenue (Millions)</th>\n",
       "      <th>Metascore</th>\n",
       "    </tr>\n",
       "  </thead>\n",
       "  <tbody>\n",
       "    <tr>\n",
       "      <th>0</th>\n",
       "      <td>1</td>\n",
       "      <td>Guardians of the Galaxy</td>\n",
       "      <td>Action,Adventure,Sci-Fi</td>\n",
       "      <td>A group of intergalactic criminals are forced ...</td>\n",
       "      <td>James Gunn</td>\n",
       "      <td>Chris Pratt, Vin Diesel, Bradley Cooper, Zoe S...</td>\n",
       "      <td>2014</td>\n",
       "      <td>121</td>\n",
       "      <td>8.1</td>\n",
       "      <td>757074</td>\n",
       "      <td>333.13</td>\n",
       "      <td>76.0</td>\n",
       "    </tr>\n",
       "    <tr>\n",
       "      <th>1</th>\n",
       "      <td>2</td>\n",
       "      <td>Prometheus</td>\n",
       "      <td>Adventure,Mystery,Sci-Fi</td>\n",
       "      <td>Following clues to the origin of mankind, a te...</td>\n",
       "      <td>Ridley Scott</td>\n",
       "      <td>Noomi Rapace, Logan Marshall-Green, Michael Fa...</td>\n",
       "      <td>2012</td>\n",
       "      <td>124</td>\n",
       "      <td>7.0</td>\n",
       "      <td>485820</td>\n",
       "      <td>126.46</td>\n",
       "      <td>65.0</td>\n",
       "    </tr>\n",
       "    <tr>\n",
       "      <th>2</th>\n",
       "      <td>3</td>\n",
       "      <td>Split</td>\n",
       "      <td>Horror,Thriller</td>\n",
       "      <td>Three girls are kidnapped by a man with a diag...</td>\n",
       "      <td>M. Night Shyamalan</td>\n",
       "      <td>James McAvoy, Anya Taylor-Joy, Haley Lu Richar...</td>\n",
       "      <td>2016</td>\n",
       "      <td>117</td>\n",
       "      <td>7.3</td>\n",
       "      <td>157606</td>\n",
       "      <td>138.12</td>\n",
       "      <td>62.0</td>\n",
       "    </tr>\n",
       "    <tr>\n",
       "      <th>3</th>\n",
       "      <td>4</td>\n",
       "      <td>Sing</td>\n",
       "      <td>Animation,Comedy,Family</td>\n",
       "      <td>In a city of humanoid animals, a hustling thea...</td>\n",
       "      <td>Christophe Lourdelet</td>\n",
       "      <td>Matthew McConaughey,Reese Witherspoon, Seth Ma...</td>\n",
       "      <td>2016</td>\n",
       "      <td>108</td>\n",
       "      <td>7.2</td>\n",
       "      <td>60545</td>\n",
       "      <td>270.32</td>\n",
       "      <td>59.0</td>\n",
       "    </tr>\n",
       "    <tr>\n",
       "      <th>4</th>\n",
       "      <td>5</td>\n",
       "      <td>Suicide Squad</td>\n",
       "      <td>Action,Adventure,Fantasy</td>\n",
       "      <td>A secret government agency recruits some of th...</td>\n",
       "      <td>David Ayer</td>\n",
       "      <td>Will Smith, Jared Leto, Margot Robbie, Viola D...</td>\n",
       "      <td>2016</td>\n",
       "      <td>123</td>\n",
       "      <td>6.2</td>\n",
       "      <td>393727</td>\n",
       "      <td>325.02</td>\n",
       "      <td>40.0</td>\n",
       "    </tr>\n",
       "  </tbody>\n",
       "</table>\n",
       "</div>"
      ],
      "text/plain": [
       "   Rank                    Title                     Genre  \\\n",
       "0     1  Guardians of the Galaxy   Action,Adventure,Sci-Fi   \n",
       "1     2               Prometheus  Adventure,Mystery,Sci-Fi   \n",
       "2     3                    Split           Horror,Thriller   \n",
       "3     4                     Sing   Animation,Comedy,Family   \n",
       "4     5            Suicide Squad  Action,Adventure,Fantasy   \n",
       "\n",
       "                                         Description              Director  \\\n",
       "0  A group of intergalactic criminals are forced ...            James Gunn   \n",
       "1  Following clues to the origin of mankind, a te...          Ridley Scott   \n",
       "2  Three girls are kidnapped by a man with a diag...    M. Night Shyamalan   \n",
       "3  In a city of humanoid animals, a hustling thea...  Christophe Lourdelet   \n",
       "4  A secret government agency recruits some of th...            David Ayer   \n",
       "\n",
       "                                              Actors  Year  Runtime (Minutes)  \\\n",
       "0  Chris Pratt, Vin Diesel, Bradley Cooper, Zoe S...  2014                121   \n",
       "1  Noomi Rapace, Logan Marshall-Green, Michael Fa...  2012                124   \n",
       "2  James McAvoy, Anya Taylor-Joy, Haley Lu Richar...  2016                117   \n",
       "3  Matthew McConaughey,Reese Witherspoon, Seth Ma...  2016                108   \n",
       "4  Will Smith, Jared Leto, Margot Robbie, Viola D...  2016                123   \n",
       "\n",
       "   Rating   Votes  Revenue (Millions)  Metascore  \n",
       "0     8.1  757074              333.13       76.0  \n",
       "1     7.0  485820              126.46       65.0  \n",
       "2     7.3  157606              138.12       62.0  \n",
       "3     7.2   60545              270.32       59.0  \n",
       "4     6.2  393727              325.02       40.0  "
      ]
     },
     "execution_count": 4,
     "metadata": {},
     "output_type": "execute_result"
    }
   ],
   "source": [
    "df.head()"
   ]
  },
  {
   "cell_type": "code",
   "execution_count": 5,
   "metadata": {},
   "outputs": [
    {
     "data": {
      "text/plain": [
       "Rank                    int64\n",
       "Title                  object\n",
       "Genre                  object\n",
       "Description            object\n",
       "Director               object\n",
       "Actors                 object\n",
       "Year                    int64\n",
       "Runtime (Minutes)       int64\n",
       "Rating                float64\n",
       "Votes                   int64\n",
       "Revenue (Millions)    float64\n",
       "Metascore             float64\n",
       "dtype: object"
      ]
     },
     "execution_count": 5,
     "metadata": {},
     "output_type": "execute_result"
    }
   ],
   "source": [
    "df.dtypes"
   ]
  },
  {
   "cell_type": "code",
   "execution_count": 6,
   "metadata": {},
   "outputs": [
    {
     "data": {
      "text/plain": [
       "Index(['Rank', 'Title', 'Genre', 'Description', 'Director', 'Actors', 'Year',\n",
       "       'Runtime (Minutes)', 'Rating', 'Votes', 'Revenue (Millions)',\n",
       "       'Metascore'],\n",
       "      dtype='object')"
      ]
     },
     "execution_count": 6,
     "metadata": {},
     "output_type": "execute_result"
    }
   ],
   "source": [
    "df.columns"
   ]
  },
  {
   "cell_type": "markdown",
   "metadata": {},
   "source": [
    "### how many movie are belong to ACTION Genre"
   ]
  },
  {
   "cell_type": "code",
   "execution_count": 18,
   "metadata": {},
   "outputs": [
    {
     "data": {
      "text/plain": [
       "277"
      ]
     },
     "execution_count": 18,
     "metadata": {},
     "output_type": "execute_result"
    }
   ],
   "source": [
    "(df['Genre'].str.find('Action')>=0).sum()"
   ]
  },
  {
   "cell_type": "markdown",
   "metadata": {},
   "source": [
    "### Year wise --> Sum( Revenue) --> % changes as compared to last year"
   ]
  },
  {
   "cell_type": "code",
   "execution_count": 20,
   "metadata": {},
   "outputs": [],
   "source": [
    "revenue_year_wise = df.groupby('Year')['Revenue (Millions)'].sum()"
   ]
  },
  {
   "cell_type": "code",
   "execution_count": 21,
   "metadata": {},
   "outputs": [
    {
     "data": {
      "text/plain": [
       "Year\n",
       "2006     3577.48\n",
       "2007     4095.26\n",
       "2008     4681.22\n",
       "2009     5208.39\n",
       "2010     5989.65\n",
       "2011     5341.09\n",
       "2012     6826.39\n",
       "2013     7399.11\n",
       "2014     7945.33\n",
       "2015     8799.09\n",
       "2016    11002.09\n",
       "Name: Revenue (Millions), dtype: float64"
      ]
     },
     "execution_count": 21,
     "metadata": {},
     "output_type": "execute_result"
    }
   ],
   "source": [
    "revenue_year_wise"
   ]
  },
  {
   "cell_type": "code",
   "execution_count": 25,
   "metadata": {},
   "outputs": [],
   "source": [
    "rev_df  = revenue_year_wise.to_frame().reset_index()"
   ]
  },
  {
   "cell_type": "code",
   "execution_count": 26,
   "metadata": {},
   "outputs": [
    {
     "data": {
      "text/html": [
       "<div>\n",
       "<style scoped>\n",
       "    .dataframe tbody tr th:only-of-type {\n",
       "        vertical-align: middle;\n",
       "    }\n",
       "\n",
       "    .dataframe tbody tr th {\n",
       "        vertical-align: top;\n",
       "    }\n",
       "\n",
       "    .dataframe thead th {\n",
       "        text-align: right;\n",
       "    }\n",
       "</style>\n",
       "<table border=\"1\" class=\"dataframe\">\n",
       "  <thead>\n",
       "    <tr style=\"text-align: right;\">\n",
       "      <th></th>\n",
       "      <th>Year</th>\n",
       "      <th>Revenue (Millions)</th>\n",
       "    </tr>\n",
       "  </thead>\n",
       "  <tbody>\n",
       "    <tr>\n",
       "      <th>0</th>\n",
       "      <td>2006</td>\n",
       "      <td>3577.48</td>\n",
       "    </tr>\n",
       "    <tr>\n",
       "      <th>1</th>\n",
       "      <td>2007</td>\n",
       "      <td>4095.26</td>\n",
       "    </tr>\n",
       "    <tr>\n",
       "      <th>2</th>\n",
       "      <td>2008</td>\n",
       "      <td>4681.22</td>\n",
       "    </tr>\n",
       "    <tr>\n",
       "      <th>3</th>\n",
       "      <td>2009</td>\n",
       "      <td>5208.39</td>\n",
       "    </tr>\n",
       "    <tr>\n",
       "      <th>4</th>\n",
       "      <td>2010</td>\n",
       "      <td>5989.65</td>\n",
       "    </tr>\n",
       "    <tr>\n",
       "      <th>5</th>\n",
       "      <td>2011</td>\n",
       "      <td>5341.09</td>\n",
       "    </tr>\n",
       "    <tr>\n",
       "      <th>6</th>\n",
       "      <td>2012</td>\n",
       "      <td>6826.39</td>\n",
       "    </tr>\n",
       "    <tr>\n",
       "      <th>7</th>\n",
       "      <td>2013</td>\n",
       "      <td>7399.11</td>\n",
       "    </tr>\n",
       "    <tr>\n",
       "      <th>8</th>\n",
       "      <td>2014</td>\n",
       "      <td>7945.33</td>\n",
       "    </tr>\n",
       "    <tr>\n",
       "      <th>9</th>\n",
       "      <td>2015</td>\n",
       "      <td>8799.09</td>\n",
       "    </tr>\n",
       "    <tr>\n",
       "      <th>10</th>\n",
       "      <td>2016</td>\n",
       "      <td>11002.09</td>\n",
       "    </tr>\n",
       "  </tbody>\n",
       "</table>\n",
       "</div>"
      ],
      "text/plain": [
       "    Year  Revenue (Millions)\n",
       "0   2006             3577.48\n",
       "1   2007             4095.26\n",
       "2   2008             4681.22\n",
       "3   2009             5208.39\n",
       "4   2010             5989.65\n",
       "5   2011             5341.09\n",
       "6   2012             6826.39\n",
       "7   2013             7399.11\n",
       "8   2014             7945.33\n",
       "9   2015             8799.09\n",
       "10  2016            11002.09"
      ]
     },
     "execution_count": 26,
     "metadata": {},
     "output_type": "execute_result"
    }
   ],
   "source": [
    "rev_df"
   ]
  },
  {
   "cell_type": "code",
   "execution_count": 29,
   "metadata": {
    "collapsed": true
   },
   "outputs": [],
   "source": [
    "rev_df.columns = ['Year','Revenue']"
   ]
  },
  {
   "cell_type": "code",
   "execution_count": 30,
   "metadata": {},
   "outputs": [
    {
     "data": {
      "text/html": [
       "<div>\n",
       "<style scoped>\n",
       "    .dataframe tbody tr th:only-of-type {\n",
       "        vertical-align: middle;\n",
       "    }\n",
       "\n",
       "    .dataframe tbody tr th {\n",
       "        vertical-align: top;\n",
       "    }\n",
       "\n",
       "    .dataframe thead th {\n",
       "        text-align: right;\n",
       "    }\n",
       "</style>\n",
       "<table border=\"1\" class=\"dataframe\">\n",
       "  <thead>\n",
       "    <tr style=\"text-align: right;\">\n",
       "      <th></th>\n",
       "      <th>Year</th>\n",
       "      <th>Revenue</th>\n",
       "    </tr>\n",
       "  </thead>\n",
       "  <tbody>\n",
       "    <tr>\n",
       "      <th>0</th>\n",
       "      <td>2006</td>\n",
       "      <td>3577.48</td>\n",
       "    </tr>\n",
       "    <tr>\n",
       "      <th>1</th>\n",
       "      <td>2007</td>\n",
       "      <td>4095.26</td>\n",
       "    </tr>\n",
       "    <tr>\n",
       "      <th>2</th>\n",
       "      <td>2008</td>\n",
       "      <td>4681.22</td>\n",
       "    </tr>\n",
       "    <tr>\n",
       "      <th>3</th>\n",
       "      <td>2009</td>\n",
       "      <td>5208.39</td>\n",
       "    </tr>\n",
       "    <tr>\n",
       "      <th>4</th>\n",
       "      <td>2010</td>\n",
       "      <td>5989.65</td>\n",
       "    </tr>\n",
       "    <tr>\n",
       "      <th>5</th>\n",
       "      <td>2011</td>\n",
       "      <td>5341.09</td>\n",
       "    </tr>\n",
       "    <tr>\n",
       "      <th>6</th>\n",
       "      <td>2012</td>\n",
       "      <td>6826.39</td>\n",
       "    </tr>\n",
       "    <tr>\n",
       "      <th>7</th>\n",
       "      <td>2013</td>\n",
       "      <td>7399.11</td>\n",
       "    </tr>\n",
       "    <tr>\n",
       "      <th>8</th>\n",
       "      <td>2014</td>\n",
       "      <td>7945.33</td>\n",
       "    </tr>\n",
       "    <tr>\n",
       "      <th>9</th>\n",
       "      <td>2015</td>\n",
       "      <td>8799.09</td>\n",
       "    </tr>\n",
       "    <tr>\n",
       "      <th>10</th>\n",
       "      <td>2016</td>\n",
       "      <td>11002.09</td>\n",
       "    </tr>\n",
       "  </tbody>\n",
       "</table>\n",
       "</div>"
      ],
      "text/plain": [
       "    Year   Revenue\n",
       "0   2006   3577.48\n",
       "1   2007   4095.26\n",
       "2   2008   4681.22\n",
       "3   2009   5208.39\n",
       "4   2010   5989.65\n",
       "5   2011   5341.09\n",
       "6   2012   6826.39\n",
       "7   2013   7399.11\n",
       "8   2014   7945.33\n",
       "9   2015   8799.09\n",
       "10  2016  11002.09"
      ]
     },
     "execution_count": 30,
     "metadata": {},
     "output_type": "execute_result"
    }
   ],
   "source": [
    "rev_df"
   ]
  },
  {
   "cell_type": "code",
   "execution_count": 27,
   "metadata": {},
   "outputs": [
    {
     "data": {
      "text/plain": [
       "(11, 2)"
      ]
     },
     "execution_count": 27,
     "metadata": {},
     "output_type": "execute_result"
    }
   ],
   "source": [
    "rev_df.shape"
   ]
  },
  {
   "cell_type": "code",
   "execution_count": 32,
   "metadata": {
    "collapsed": true
   },
   "outputs": [],
   "source": [
    "import numpy as np"
   ]
  },
  {
   "cell_type": "code",
   "execution_count": 33,
   "metadata": {
    "collapsed": true
   },
   "outputs": [],
   "source": [
    "rev_df['per_change'] = np.nan"
   ]
  },
  {
   "cell_type": "code",
   "execution_count": 34,
   "metadata": {},
   "outputs": [
    {
     "data": {
      "text/html": [
       "<div>\n",
       "<style scoped>\n",
       "    .dataframe tbody tr th:only-of-type {\n",
       "        vertical-align: middle;\n",
       "    }\n",
       "\n",
       "    .dataframe tbody tr th {\n",
       "        vertical-align: top;\n",
       "    }\n",
       "\n",
       "    .dataframe thead th {\n",
       "        text-align: right;\n",
       "    }\n",
       "</style>\n",
       "<table border=\"1\" class=\"dataframe\">\n",
       "  <thead>\n",
       "    <tr style=\"text-align: right;\">\n",
       "      <th></th>\n",
       "      <th>Year</th>\n",
       "      <th>Revenue</th>\n",
       "      <th>per_change</th>\n",
       "    </tr>\n",
       "  </thead>\n",
       "  <tbody>\n",
       "    <tr>\n",
       "      <th>0</th>\n",
       "      <td>2006</td>\n",
       "      <td>3577.48</td>\n",
       "      <td>NaN</td>\n",
       "    </tr>\n",
       "    <tr>\n",
       "      <th>1</th>\n",
       "      <td>2007</td>\n",
       "      <td>4095.26</td>\n",
       "      <td>NaN</td>\n",
       "    </tr>\n",
       "    <tr>\n",
       "      <th>2</th>\n",
       "      <td>2008</td>\n",
       "      <td>4681.22</td>\n",
       "      <td>NaN</td>\n",
       "    </tr>\n",
       "    <tr>\n",
       "      <th>3</th>\n",
       "      <td>2009</td>\n",
       "      <td>5208.39</td>\n",
       "      <td>NaN</td>\n",
       "    </tr>\n",
       "    <tr>\n",
       "      <th>4</th>\n",
       "      <td>2010</td>\n",
       "      <td>5989.65</td>\n",
       "      <td>NaN</td>\n",
       "    </tr>\n",
       "    <tr>\n",
       "      <th>5</th>\n",
       "      <td>2011</td>\n",
       "      <td>5341.09</td>\n",
       "      <td>NaN</td>\n",
       "    </tr>\n",
       "    <tr>\n",
       "      <th>6</th>\n",
       "      <td>2012</td>\n",
       "      <td>6826.39</td>\n",
       "      <td>NaN</td>\n",
       "    </tr>\n",
       "    <tr>\n",
       "      <th>7</th>\n",
       "      <td>2013</td>\n",
       "      <td>7399.11</td>\n",
       "      <td>NaN</td>\n",
       "    </tr>\n",
       "    <tr>\n",
       "      <th>8</th>\n",
       "      <td>2014</td>\n",
       "      <td>7945.33</td>\n",
       "      <td>NaN</td>\n",
       "    </tr>\n",
       "    <tr>\n",
       "      <th>9</th>\n",
       "      <td>2015</td>\n",
       "      <td>8799.09</td>\n",
       "      <td>NaN</td>\n",
       "    </tr>\n",
       "    <tr>\n",
       "      <th>10</th>\n",
       "      <td>2016</td>\n",
       "      <td>11002.09</td>\n",
       "      <td>NaN</td>\n",
       "    </tr>\n",
       "  </tbody>\n",
       "</table>\n",
       "</div>"
      ],
      "text/plain": [
       "    Year   Revenue  per_change\n",
       "0   2006   3577.48         NaN\n",
       "1   2007   4095.26         NaN\n",
       "2   2008   4681.22         NaN\n",
       "3   2009   5208.39         NaN\n",
       "4   2010   5989.65         NaN\n",
       "5   2011   5341.09         NaN\n",
       "6   2012   6826.39         NaN\n",
       "7   2013   7399.11         NaN\n",
       "8   2014   7945.33         NaN\n",
       "9   2015   8799.09         NaN\n",
       "10  2016  11002.09         NaN"
      ]
     },
     "execution_count": 34,
     "metadata": {},
     "output_type": "execute_result"
    }
   ],
   "source": [
    "rev_df"
   ]
  },
  {
   "cell_type": "code",
   "execution_count": 36,
   "metadata": {
    "scrolled": true
   },
   "outputs": [],
   "source": [
    "for i in range(0,rev_df.shape[0]-1):\n",
    "    rev_df.iloc[i+1,2] = ((rev_df.Revenue[i+1]-rev_df.Revenue[i])/rev_df.Revenue[i])*100"
   ]
  },
  {
   "cell_type": "code",
   "execution_count": 37,
   "metadata": {},
   "outputs": [
    {
     "data": {
      "text/html": [
       "<div>\n",
       "<style scoped>\n",
       "    .dataframe tbody tr th:only-of-type {\n",
       "        vertical-align: middle;\n",
       "    }\n",
       "\n",
       "    .dataframe tbody tr th {\n",
       "        vertical-align: top;\n",
       "    }\n",
       "\n",
       "    .dataframe thead th {\n",
       "        text-align: right;\n",
       "    }\n",
       "</style>\n",
       "<table border=\"1\" class=\"dataframe\">\n",
       "  <thead>\n",
       "    <tr style=\"text-align: right;\">\n",
       "      <th></th>\n",
       "      <th>Year</th>\n",
       "      <th>Revenue</th>\n",
       "      <th>per_change</th>\n",
       "    </tr>\n",
       "  </thead>\n",
       "  <tbody>\n",
       "    <tr>\n",
       "      <th>0</th>\n",
       "      <td>2006</td>\n",
       "      <td>3577.48</td>\n",
       "      <td>NaN</td>\n",
       "    </tr>\n",
       "    <tr>\n",
       "      <th>1</th>\n",
       "      <td>2007</td>\n",
       "      <td>4095.26</td>\n",
       "      <td>14.473316</td>\n",
       "    </tr>\n",
       "    <tr>\n",
       "      <th>2</th>\n",
       "      <td>2008</td>\n",
       "      <td>4681.22</td>\n",
       "      <td>14.308249</td>\n",
       "    </tr>\n",
       "    <tr>\n",
       "      <th>3</th>\n",
       "      <td>2009</td>\n",
       "      <td>5208.39</td>\n",
       "      <td>11.261381</td>\n",
       "    </tr>\n",
       "    <tr>\n",
       "      <th>4</th>\n",
       "      <td>2010</td>\n",
       "      <td>5989.65</td>\n",
       "      <td>15.000029</td>\n",
       "    </tr>\n",
       "    <tr>\n",
       "      <th>5</th>\n",
       "      <td>2011</td>\n",
       "      <td>5341.09</td>\n",
       "      <td>-10.828012</td>\n",
       "    </tr>\n",
       "    <tr>\n",
       "      <th>6</th>\n",
       "      <td>2012</td>\n",
       "      <td>6826.39</td>\n",
       "      <td>27.808930</td>\n",
       "    </tr>\n",
       "    <tr>\n",
       "      <th>7</th>\n",
       "      <td>2013</td>\n",
       "      <td>7399.11</td>\n",
       "      <td>8.389793</td>\n",
       "    </tr>\n",
       "    <tr>\n",
       "      <th>8</th>\n",
       "      <td>2014</td>\n",
       "      <td>7945.33</td>\n",
       "      <td>7.382239</td>\n",
       "    </tr>\n",
       "    <tr>\n",
       "      <th>9</th>\n",
       "      <td>2015</td>\n",
       "      <td>8799.09</td>\n",
       "      <td>10.745432</td>\n",
       "    </tr>\n",
       "    <tr>\n",
       "      <th>10</th>\n",
       "      <td>2016</td>\n",
       "      <td>11002.09</td>\n",
       "      <td>25.036680</td>\n",
       "    </tr>\n",
       "  </tbody>\n",
       "</table>\n",
       "</div>"
      ],
      "text/plain": [
       "    Year   Revenue  per_change\n",
       "0   2006   3577.48         NaN\n",
       "1   2007   4095.26   14.473316\n",
       "2   2008   4681.22   14.308249\n",
       "3   2009   5208.39   11.261381\n",
       "4   2010   5989.65   15.000029\n",
       "5   2011   5341.09  -10.828012\n",
       "6   2012   6826.39   27.808930\n",
       "7   2013   7399.11    8.389793\n",
       "8   2014   7945.33    7.382239\n",
       "9   2015   8799.09   10.745432\n",
       "10  2016  11002.09   25.036680"
      ]
     },
     "execution_count": 37,
     "metadata": {},
     "output_type": "execute_result"
    }
   ],
   "source": [
    "rev_df"
   ]
  },
  {
   "cell_type": "markdown",
   "metadata": {},
   "source": [
    "### 3.) Analysis on director \n",
    "\t3.1) Based on Director , how many movie director has completed  till now and what is min and max revenue and what is rating?\n",
    "\t3.2) Director name start with 'Z', what is count of different director whose name start with Z."
   ]
  },
  {
   "cell_type": "code",
   "execution_count": 12,
   "metadata": {
    "scrolled": true
   },
   "outputs": [
    {
     "data": {
      "text/plain": [
       "Director\n",
       "Aamir Khan                     1\n",
       "Abdellatif Kechiche            1\n",
       "Adam McKay                     4\n",
       "Adam Shankman                  2\n",
       "Adam Wingard                   2\n",
       "Akiva Schaffer                 1\n",
       "Alan Taylor                    2\n",
       "Albert Hughes                  1\n",
       "Alejandro Amenábar             1\n",
       "Alejandro González Iñárritu    3\n",
       "Alessandro Carloni             1\n",
       "Alex Garland                   1\n",
       "Alex Proyas                    1\n",
       "Alexander Payne                1\n",
       "Alexandre Aja                  3\n",
       "Alfonso Cuarón                 2\n",
       "Alfonso Gomez-Rejon            1\n",
       "Allen Coulter                  1\n",
       "Amma Asante                    1\n",
       "Andrea Arnold                  1\n",
       "Andrew Dominik                 1\n",
       "Andrew Jarecki                 1\n",
       "Andrew Niccol                  2\n",
       "Andrew Stanton                 2\n",
       "Andrey Kravchuk                1\n",
       "Andrés Muschietti              1\n",
       "Andy Fickman                   1\n",
       "Andy Goddard                   1\n",
       "Andy Tennant                   1\n",
       "Ang Lee                        2\n",
       "                              ..\n",
       "Tim Miller                     1\n",
       "Timur Bekmambetov              2\n",
       "Todd Haynes                    1\n",
       "Todd Phillips                  2\n",
       "Tom Ford                       1\n",
       "Tom Gormican                   1\n",
       "Tom Hooper                     3\n",
       "Tom McCarthy                   1\n",
       "Tom McGrath                    1\n",
       "Tom Six                        1\n",
       "Tom Tykwer                     3\n",
       "Tomas Alfredson                1\n",
       "Tony Gilroy                    1\n",
       "Tony Scott                     1\n",
       "Travis Knight                  1\n",
       "Wally Pfister                  1\n",
       "Walt Dohrn                     1\n",
       "Werner Herzog                  1\n",
       "Wes Anderson                   3\n",
       "Wes Ball                       2\n",
       "Wes Craven                     1\n",
       "Whit Stillman                  1\n",
       "Will Gluck                     3\n",
       "William Brent Bell             1\n",
       "Woody Allen                    5\n",
       "Xavier Dolan                   1\n",
       "Yimou Zhang                    1\n",
       "Yorgos Lanthimos               2\n",
       "Zack Snyder                    5\n",
       "Zackary Adler                  1\n",
       "Name: Director, Length: 524, dtype: int64"
      ]
     },
     "execution_count": 12,
     "metadata": {},
     "output_type": "execute_result"
    }
   ],
   "source": [
    "df.groupby('Director')['Director'].count()"
   ]
  },
  {
   "cell_type": "code",
   "execution_count": 13,
   "metadata": {
    "scrolled": true
   },
   "outputs": [
    {
     "data": {
      "text/plain": [
       "Director\n",
       "Aamir Khan                       1.20\n",
       "Abdellatif Kechiche              2.20\n",
       "Adam McKay                      70.24\n",
       "Adam Shankman                   38.51\n",
       "Adam Wingard                     0.32\n",
       "Akiva Schaffer                   9.39\n",
       "Alan Taylor                     89.73\n",
       "Albert Hughes                   94.82\n",
       "Alejandro Amenábar               0.05\n",
       "Alejandro González Iñárritu     34.30\n",
       "Alessandro Carloni             143.52\n",
       "Alex Garland                    25.44\n",
       "Alex Proyas                     31.14\n",
       "Alexander Payne                 82.62\n",
       "Alexandre Aja                    0.16\n",
       "Alfonso Cuarón                  35.29\n",
       "Alfonso Gomez-Rejon              6.74\n",
       "Allen Coulter                   19.06\n",
       "Amma Asante                      3.90\n",
       "Andrea Arnold                    0.66\n",
       "Andrew Dominik                   3.90\n",
       "Andrew Jarecki                   0.58\n",
       "Andrew Niccol                   26.62\n",
       "Andrew Stanton                  73.06\n",
       "Andrey Kravchuk                 23.05\n",
       "Andrés Muschietti               71.59\n",
       "Andy Fickman                     2.34\n",
       "Andy Goddard                     0.00\n",
       "Andy Tennant                    70.22\n",
       "Ang Lee                          1.72\n",
       "                                ...  \n",
       "Tim Miller                     363.02\n",
       "Timur Bekmambetov               26.38\n",
       "Todd Haynes                      0.25\n",
       "Todd Phillips                   43.02\n",
       "Tom Ford                        10.64\n",
       "Tom Gormican                    26.05\n",
       "Tom Hooper                      12.71\n",
       "Tom McCarthy                    44.99\n",
       "Tom McGrath                    148.34\n",
       "Tom Six                          0.18\n",
       "Tom Tykwer                       2.21\n",
       "Tomas Alfredson                 24.10\n",
       "Tony Gilroy                    113.17\n",
       "Tony Scott                      81.56\n",
       "Travis Knight                   48.02\n",
       "Wally Pfister                   23.01\n",
       "Walt Dohrn                     153.69\n",
       "Werner Herzog                    5.48\n",
       "Wes Anderson                    21.00\n",
       "Wes Ball                        81.69\n",
       "Wes Craven                      38.18\n",
       "Whit Stillman                   14.01\n",
       "Will Gluck                      55.80\n",
       "William Brent Bell              35.79\n",
       "Woody Allen                     11.08\n",
       "Xavier Dolan                     3.49\n",
       "Yimou Zhang                     45.13\n",
       "Yorgos Lanthimos                 0.11\n",
       "Zack Snyder                     36.38\n",
       "Zackary Adler                    6.53\n",
       "Name: Revenue (Millions), Length: 524, dtype: float64"
      ]
     },
     "execution_count": 13,
     "metadata": {},
     "output_type": "execute_result"
    }
   ],
   "source": [
    "df.groupby('Director')['Revenue (Millions)'].min()"
   ]
  },
  {
   "cell_type": "code",
   "execution_count": 14,
   "metadata": {
    "scrolled": true
   },
   "outputs": [
    {
     "data": {
      "text/plain": [
       "Director\n",
       "Aamir Khan                       1.20\n",
       "Abdellatif Kechiche              2.20\n",
       "Adam McKay                     148.21\n",
       "Adam Shankman                  118.82\n",
       "Adam Wingard                    20.75\n",
       "Akiva Schaffer                   9.39\n",
       "Alan Taylor                    206.36\n",
       "Albert Hughes                   94.82\n",
       "Alejandro Amenábar               0.05\n",
       "Alejandro González Iñárritu    183.64\n",
       "Alessandro Carloni             143.52\n",
       "Alex Garland                    25.44\n",
       "Alex Proyas                     31.14\n",
       "Alexander Payne                 82.62\n",
       "Alexandre Aja                   41.78\n",
       "Alfonso Cuarón                 274.08\n",
       "Alfonso Gomez-Rejon              6.74\n",
       "Allen Coulter                   19.06\n",
       "Amma Asante                      3.90\n",
       "Andrea Arnold                    0.66\n",
       "Andrew Dominik                   3.90\n",
       "Andrew Jarecki                   0.58\n",
       "Andrew Niccol                   37.55\n",
       "Andrew Stanton                 486.29\n",
       "Andrey Kravchuk                 23.05\n",
       "Andrés Muschietti               71.59\n",
       "Andy Fickman                     2.34\n",
       "Andy Goddard                     0.00\n",
       "Andy Tennant                    70.22\n",
       "Ang Lee                        124.98\n",
       "                                ...  \n",
       "Tim Miller                     363.02\n",
       "Timur Bekmambetov              134.57\n",
       "Todd Haynes                      0.25\n",
       "Todd Phillips                  277.31\n",
       "Tom Ford                        10.64\n",
       "Tom Gormican                    26.05\n",
       "Tom Hooper                     148.78\n",
       "Tom McCarthy                    44.99\n",
       "Tom McGrath                    148.34\n",
       "Tom Six                          0.18\n",
       "Tom Tykwer                      27.10\n",
       "Tomas Alfredson                 24.10\n",
       "Tony Gilroy                    113.17\n",
       "Tony Scott                      81.56\n",
       "Travis Knight                   48.02\n",
       "Wally Pfister                   23.01\n",
       "Walt Dohrn                     153.69\n",
       "Werner Herzog                    5.48\n",
       "Wes Anderson                    59.07\n",
       "Wes Ball                       102.41\n",
       "Wes Craven                      38.18\n",
       "Whit Stillman                   14.01\n",
       "Will Gluck                      85.91\n",
       "William Brent Bell              35.79\n",
       "Woody Allen                     56.82\n",
       "Xavier Dolan                     3.49\n",
       "Yimou Zhang                     45.13\n",
       "Yorgos Lanthimos                 8.70\n",
       "Zack Snyder                    330.25\n",
       "Zackary Adler                    6.53\n",
       "Name: Revenue (Millions), Length: 524, dtype: float64"
      ]
     },
     "execution_count": 14,
     "metadata": {},
     "output_type": "execute_result"
    }
   ],
   "source": [
    "df.groupby('Director')['Revenue (Millions)'].max()"
   ]
  },
  {
   "cell_type": "code",
   "execution_count": 15,
   "metadata": {
    "scrolled": true
   },
   "outputs": [
    {
     "data": {
      "text/plain": [
       "Director\n",
       "Aamir Khan                     8.5\n",
       "Abdellatif Kechiche            7.8\n",
       "Adam McKay                     7.8\n",
       "Adam Shankman                  6.7\n",
       "Adam Wingard                   6.7\n",
       "Akiva Schaffer                 6.7\n",
       "Alan Taylor                    7.0\n",
       "Albert Hughes                  6.9\n",
       "Alejandro Amenábar             5.7\n",
       "Alejandro González Iñárritu    8.0\n",
       "Alessandro Carloni             7.2\n",
       "Alex Garland                   7.7\n",
       "Alex Proyas                    5.5\n",
       "Alexander Payne                7.3\n",
       "Alexandre Aja                  6.5\n",
       "Alfonso Cuarón                 7.9\n",
       "Alfonso Gomez-Rejon            7.8\n",
       "Allen Coulter                  7.2\n",
       "Amma Asante                    6.8\n",
       "Andrea Arnold                  7.0\n",
       "Andrew Dominik                 7.5\n",
       "Andrew Jarecki                 6.3\n",
       "Andrew Niccol                  6.7\n",
       "Andrew Stanton                 7.4\n",
       "Andrey Kravchuk                4.7\n",
       "Andrés Muschietti              6.2\n",
       "Andy Fickman                   6.4\n",
       "Andy Goddard                   5.2\n",
       "Andy Tennant                   5.7\n",
       "Ang Lee                        7.9\n",
       "                              ... \n",
       "Tim Miller                     8.0\n",
       "Timur Bekmambetov              6.7\n",
       "Todd Haynes                    7.2\n",
       "Todd Phillips                  7.8\n",
       "Tom Ford                       7.5\n",
       "Tom Gormican                   6.2\n",
       "Tom Hooper                     8.0\n",
       "Tom McCarthy                   8.1\n",
       "Tom McGrath                    7.3\n",
       "Tom Six                        4.4\n",
       "Tom Tykwer                     7.5\n",
       "Tomas Alfredson                7.1\n",
       "Tony Gilroy                    6.7\n",
       "Tony Scott                     6.8\n",
       "Travis Knight                  7.9\n",
       "Wally Pfister                  6.3\n",
       "Walt Dohrn                     6.5\n",
       "Werner Herzog                  7.3\n",
       "Wes Anderson                   8.1\n",
       "Wes Ball                       6.8\n",
       "Wes Craven                     6.2\n",
       "Whit Stillman                  6.5\n",
       "Will Gluck                     7.1\n",
       "William Brent Bell             6.0\n",
       "Woody Allen                    7.7\n",
       "Xavier Dolan                   8.1\n",
       "Yimou Zhang                    6.1\n",
       "Yorgos Lanthimos               7.3\n",
       "Zack Snyder                    7.7\n",
       "Zackary Adler                  5.1\n",
       "Name: Rating, Length: 524, dtype: float64"
      ]
     },
     "execution_count": 15,
     "metadata": {},
     "output_type": "execute_result"
    }
   ],
   "source": [
    "df.groupby('Director')['Rating'].max()"
   ]
  },
  {
   "cell_type": "code",
   "execution_count": 10,
   "metadata": {},
   "outputs": [
    {
     "data": {
      "text/plain": [
       "6"
      ]
     },
     "execution_count": 10,
     "metadata": {},
     "output_type": "execute_result"
    }
   ],
   "source": [
    "df['Director'].str.startswith('Z').sum()"
   ]
  }
 ],
 "metadata": {
  "kernelspec": {
   "display_name": "Python 3",
   "language": "python",
   "name": "python3"
  },
  "language_info": {
   "codemirror_mode": {
    "name": "ipython",
    "version": 3
   },
   "file_extension": ".py",
   "mimetype": "text/x-python",
   "name": "python",
   "nbconvert_exporter": "python",
   "pygments_lexer": "ipython3",
   "version": "3.6.4"
  }
 },
 "nbformat": 4,
 "nbformat_minor": 2
}
